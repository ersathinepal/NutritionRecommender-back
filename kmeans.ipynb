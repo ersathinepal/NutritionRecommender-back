{
 "cells": [
  {
   "cell_type": "code",
   "execution_count": 2,
   "metadata": {},
   "outputs": [],
   "source": [
    "import numpy as np\n",
    "import pandas as pd\n",
    "import matplotlib.pyplot as plt\n",
    "%matplotlib inline"
   ]
  },
  {
   "cell_type": "code",
   "execution_count": 5,
   "metadata": {},
   "outputs": [],
   "source": [
    "food_df= pd.read_csv(\"data/nndb_flat.csv\")"
   ]
  },
  {
   "cell_type": "code",
   "execution_count": 6,
   "metadata": {},
   "outputs": [],
   "source": [
    "food_df2 = food_df.iloc[:,0:13]\n",
    "food_df2.head(2)\n",
    "food_df2 = food_df2.dropna(axis = 'columns', how ='any')\n"
   ]
  },
  {
   "cell_type": "code",
   "execution_count": 7,
   "metadata": {},
   "outputs": [],
   "source": [
    "food_df2 =food_df2.dropna(axis = 'columns', how ='any')"
   ]
  },
  {
   "cell_type": "code",
   "execution_count": 8,
   "metadata": {
    "scrolled": true
   },
   "outputs": [
    {
     "data": {
      "text/html": [
       "<div>\n",
       "<style scoped>\n",
       "    .dataframe tbody tr th:only-of-type {\n",
       "        vertical-align: middle;\n",
       "    }\n",
       "\n",
       "    .dataframe tbody tr th {\n",
       "        vertical-align: top;\n",
       "    }\n",
       "\n",
       "    .dataframe thead th {\n",
       "        text-align: right;\n",
       "    }\n",
       "</style>\n",
       "<table border=\"1\" class=\"dataframe\">\n",
       "  <thead>\n",
       "    <tr style=\"text-align: right;\">\n",
       "      <th></th>\n",
       "      <th>ID</th>\n",
       "      <th>Descrip</th>\n",
       "      <th>Energy_kcal</th>\n",
       "      <th>Protein_g</th>\n",
       "      <th>Fat_g</th>\n",
       "      <th>Carb_g</th>\n",
       "      <th>Sugar_g</th>\n",
       "      <th>Fiber_g</th>\n",
       "    </tr>\n",
       "  </thead>\n",
       "  <tbody>\n",
       "    <tr>\n",
       "      <th>0</th>\n",
       "      <td>1001</td>\n",
       "      <td>Butter, salted</td>\n",
       "      <td>717.0</td>\n",
       "      <td>0.85</td>\n",
       "      <td>81.11</td>\n",
       "      <td>0.06</td>\n",
       "      <td>0.06</td>\n",
       "      <td>0.0</td>\n",
       "    </tr>\n",
       "    <tr>\n",
       "      <th>1</th>\n",
       "      <td>1002</td>\n",
       "      <td>Butter, whipped, with salt</td>\n",
       "      <td>717.0</td>\n",
       "      <td>0.85</td>\n",
       "      <td>81.11</td>\n",
       "      <td>0.06</td>\n",
       "      <td>0.06</td>\n",
       "      <td>0.0</td>\n",
       "    </tr>\n",
       "  </tbody>\n",
       "</table>\n",
       "</div>"
      ],
      "text/plain": [
       "     ID                     Descrip  Energy_kcal  Protein_g  Fat_g  Carb_g  \\\n",
       "0  1001              Butter, salted        717.0       0.85  81.11    0.06   \n",
       "1  1002  Butter, whipped, with salt        717.0       0.85  81.11    0.06   \n",
       "\n",
       "   Sugar_g  Fiber_g  \n",
       "0     0.06      0.0  \n",
       "1     0.06      0.0  "
      ]
     },
     "execution_count": 8,
     "metadata": {},
     "output_type": "execute_result"
    }
   ],
   "source": [
    "food_df3 =food_df2.drop(['FoodGroup','ShortDescrip'], axis =1)\n",
    "food_df3.head(2)"
   ]
  },
  {
   "cell_type": "code",
   "execution_count": 17,
   "metadata": {},
   "outputs": [],
   "source": [
    "from sklearn.cluster import KMeans\n"
   ]
  },
  {
   "cell_type": "code",
   "execution_count": 18,
   "metadata": {},
   "outputs": [
    {
     "data": {
      "text/plain": [
       "array([[7.170e+02, 8.500e-01, 8.111e+01, 6.000e-02, 6.000e-02, 0.000e+00],\n",
       "       [7.170e+02, 8.500e-01, 8.111e+01, 6.000e-02, 6.000e-02, 0.000e+00],\n",
       "       [8.760e+02, 2.800e-01, 9.948e+01, 0.000e+00, 0.000e+00, 0.000e+00],\n",
       "       ...,\n",
       "       [2.690e+02, 0.000e+00, 0.000e+00, 7.314e+01, 7.320e+01, 0.000e+00],\n",
       "       [9.000e+01, 1.610e+01, 1.400e+00, 2.000e+00, 0.000e+00, 0.000e+00],\n",
       "       [8.900e+01, 1.980e+01, 5.000e-01, 0.000e+00, 0.000e+00, 0.000e+00]])"
      ]
     },
     "execution_count": 18,
     "metadata": {},
     "output_type": "execute_result"
    }
   ],
   "source": [
    "x =food_df3.iloc[:,[2,3,4,5,6,7]].values\n",
    "x"
   ]
  },
  {
   "cell_type": "code",
   "execution_count": 19,
   "metadata": {},
   "outputs": [],
   "source": [
    "des =[]\n",
    "for i in range(1,11):\n",
    "    kmeans =KMeans(n_clusters = i,init ='k-means++',max_iter =300,n_init=10,random_state = 0)\n",
    "    kmeans.fit(x)\n",
    "    des.append(kmeans.inertia_)"
   ]
  },
  {
   "cell_type": "code",
   "execution_count": 20,
   "metadata": {},
   "outputs": [
    {
     "data": {
      "image/png": "[encoded data removed]",
      "text/plain": [
       "<Figure size 432x288 with 1 Axes>"
      ]
     },
     "metadata": {
      "needs_background": "light"
     },
     "output_type": "display_data"
    }
   ],
   "source": [
    "plt.plot(range(1,11),wcss)\n",
    "plt.title('The Elbow Method')\n",
    "plt.xlabel('calories in differnt nutrient')\n",
    "plt.ylabel('WCSS') #DESCRIP\n",
    "plt.show()"
   ]
  },
  {
   "cell_type": "code",
   "execution_count": 28,
   "metadata": {},
   "outputs": [
    {
     "data": {
      "text/plain": [
       "array([4, 4, 4, ..., 5, 3, 3], dtype=int32)"
      ]
     },
     "execution_count": 28,
     "metadata": {},
     "output_type": "execute_result"
    }
   ],
   "source": [
    "#optimal number of dataset by kmeans\n",
    "kmeans = KMeans(n_clusters =6,init='k-means++',max_iter =8000\n",
    "                ,n_init=10,random_state =0)\n",
    "y_means =kmeans.fit_predict(x)\n",
    "y_means"
   ]
  },
  {
   "cell_type": "code",
   "execution_count": 29,
   "metadata": {},
   "outputs": [
    {
     "data": {
      "text/plain": [
       "<matplotlib.collections.PathCollection at 0x7f2322daac88>"
      ]
     },
     "execution_count": 29,
     "metadata": {},
     "output_type": "execute_result"
    },
    {
     "data": {
      "image/png": "[encoded data removed]",
      "text/plain": [
       "<Figure size 432x288 with 1 Axes>"
      ]
     },
     "metadata": {
      "needs_background": "light"
     },
     "output_type": "display_data"
    }
   ],
   "source": [
    "#visualisingcluster\n",
    "plt.scatter(x[y_means==0, 0],x[y_means==0,1],s =100,c ='red',label ='cluster 1')\n",
    "plt.scatter(x[y_means==1, 0],x[y_means==1,1],s =100,c ='blue',label ='cluster 2')\n",
    "plt.scatter(x[y_means==2, 0],x[y_means==2,1],s =100,c ='green',label ='cluster 3')\n",
    "plt.scatter(x[y_means==3, 0],x[y_means==3,1],s =100,c ='yellow',label ='cluster 4')\n",
    "plt.scatter(x[y_means==4, 0],x[y_means==4,1],s =100,c ='black',label ='cluster 5')\n",
    "plt.scatter(x[y_means==5, 0],x[y_means==5,1],s =100,c ='skyblue',label ='cluster 6')\n"
   ]
  },
  {
   "cell_type": "code",
   "execution_count": 37,
   "metadata": {},
   "outputs": [
    {
     "data": {
      "text/plain": [
       "Text(0, 0.5, 'des')"
      ]
     },
     "execution_count": 37,
     "metadata": {},
     "output_type": "execute_result"
    },
    {
     "data": {
      "image/png": "[encoded data removed]",
      "text/plain": [
       "<Figure size 432x288 with 1 Axes>"
      ]
     },
     "metadata": {
      "needs_background": "light"
     },
     "output_type": "display_data"
    }
   ],
   "source": [
    "plt.scatter(kmeans.cluster_centers_[:,5], kmeans.cluster_centers_[:,1],s = 8000, c='cyan',label='Centroids')\n",
    "plt.title('Clusters of food')\n",
    "plt.xlabel('calories')\n",
    "plt.ylabel('des')\n"
   ]
  },
  {
   "cell_type": "code",
   "execution_count": null,
   "metadata": {},
   "outputs": [],
   "source": []
  }
 ],
 "metadata": {
  "kernelspec": {
   "display_name": "Python 3",
   "language": "python",
   "name": "python3"
  },
  "language_info": {
   "codemirror_mode": {
    "name": "ipython",
    "version": 3
   },
   "file_extension": ".py",
   "mimetype": "text/x-python",
   "name": "python",
   "nbconvert_exporter": "python",
   "pygments_lexer": "ipython3",
   "version": "3.6.7"
  }
 },
 "nbformat": 4,
 "nbformat_minor": 2
}
